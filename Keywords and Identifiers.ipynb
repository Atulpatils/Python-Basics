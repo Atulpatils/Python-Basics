{
 "cells": [
  {
   "cell_type": "markdown",
   "id": "dc1ddb40",
   "metadata": {},
   "source": [
    "## Python Keywords\n",
    "\n",
    "#### Keywords are reserved words in python\n",
    "\n",
    "##### We cant use keyword as variable name, function name or any other identifier\n",
    "\n",
    "#### Keywords are case sensitive"
   ]
  },
  {
   "cell_type": "code",
   "execution_count": 7,
   "id": "149b4ce5",
   "metadata": {},
   "outputs": [
    {
     "name": "stdout",
     "output_type": "stream",
     "text": [
      "['False', 'None', 'True', '__peg_parser__', 'and', 'as', 'assert', 'async', 'await', 'break', 'class', 'continue', 'def', 'del', 'elif', 'else', 'except', 'finally', 'for', 'from', 'global', 'if', 'import', 'in', 'is', 'lambda', 'nonlocal', 'not', 'or', 'pass', 'raise', 'return', 'try', 'while', 'with', 'yield']\n",
      "\n",
      "Total number of keywords: 36\n"
     ]
    }
   ],
   "source": [
    "# Get all keywords in python\n",
    " \n",
    "import keyword\n",
    "\n",
    "print(keyword.kwlist)\n",
    "\n",
    "print('\\nTotal number of keywords:',len(keyword.kwlist))"
   ]
  },
  {
   "cell_type": "markdown",
   "id": "e1de7fc0",
   "metadata": {},
   "source": [
    "## Identifiers"
   ]
  },
  {
   "cell_type": "markdown",
   "id": "b0afcbce",
   "metadata": {},
   "source": [
    "#### Identifiers is the name given to entitties like class, functions, variables etc. in Python,It helps differentiating one entity from another.\n",
    "\n",
    "#### Rules for writing Identifiers.\n",
    "#### 1. Identifiers can be a combination of letters in lowercase (a to z) or uppercase (A to Z) or digits (0 to 9) or an underscore  ( _ ).\n",
    "#### 2. An identifiers cannot start with a digit. 1Var is invalid, but Var1 is valid\n",
    "\n",
    "\n",
    "#### 3. Keywords cannot be used as identifiers."
   ]
  },
  {
   "cell_type": "code",
   "execution_count": 19,
   "id": "1fe5d734",
   "metadata": {},
   "outputs": [],
   "source": [
    "xyz_98 = 111;"
   ]
  },
  {
   "cell_type": "code",
   "execution_count": 20,
   "id": "f3bbb8e3",
   "metadata": {},
   "outputs": [
    {
     "ename": "SyntaxError",
     "evalue": "invalid decimal literal (190582750.py, line 1)",
     "output_type": "error",
     "traceback": [
      "\u001b[1;36m  Input \u001b[1;32mIn [20]\u001b[1;36m\u001b[0m\n\u001b[1;33m    11_xyz = 111;\u001b[0m\n\u001b[1;37m      ^\u001b[0m\n\u001b[1;31mSyntaxError\u001b[0m\u001b[1;31m:\u001b[0m invalid decimal literal\n"
     ]
    }
   ],
   "source": [
    "11_xyz = 111; # We cant start identifiers with numeric "
   ]
  },
  {
   "cell_type": "code",
   "execution_count": 22,
   "id": "5e0564aa",
   "metadata": {},
   "outputs": [
    {
     "ename": "SyntaxError",
     "evalue": "invalid syntax (2238942435.py, line 1)",
     "output_type": "error",
     "traceback": [
      "\u001b[1;36m  Input \u001b[1;32mIn [22]\u001b[1;36m\u001b[0m\n\u001b[1;33m    lambda = xyz  # Lambda is keyword as we mentioned 3rd rule keywords not use for defining identifiers\u001b[0m\n\u001b[1;37m           ^\u001b[0m\n\u001b[1;31mSyntaxError\u001b[0m\u001b[1;31m:\u001b[0m invalid syntax\n"
     ]
    }
   ],
   "source": [
    "lambda = xyz  # Lambda is keyword as we mentioned 3rd rule keywords not use for defining identifiers"
   ]
  },
  {
   "cell_type": "code",
   "execution_count": null,
   "id": "f51d5619",
   "metadata": {},
   "outputs": [],
   "source": []
  }
 ],
 "metadata": {
  "kernelspec": {
   "display_name": "Python 3 (ipykernel)",
   "language": "python",
   "name": "python3"
  },
  "language_info": {
   "codemirror_mode": {
    "name": "ipython",
    "version": 3
   },
   "file_extension": ".py",
   "mimetype": "text/x-python",
   "name": "python",
   "nbconvert_exporter": "python",
   "pygments_lexer": "ipython3",
   "version": "3.9.12"
  }
 },
 "nbformat": 4,
 "nbformat_minor": 5
}
